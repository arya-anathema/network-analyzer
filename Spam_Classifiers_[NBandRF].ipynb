{
  "nbformat": 4,
  "nbformat_minor": 0,
  "metadata": {
    "colab": {
      "provenance": []
    },
    "kernelspec": {
      "name": "python3",
      "display_name": "Python 3"
    },
    "language_info": {
      "name": "python"
    }
  },
  "cells": [
    {
      "cell_type": "markdown",
      "source": [
        "#Spam Detection using Naïve Bayes and Random Forest\n",
        "\n",
        "\n",
        "\n"
      ],
      "metadata": {
        "id": "kQSNp1X4sGV1"
      }
    },
    {
      "cell_type": "markdown",
      "source": [
        "##Naive Bayes\n",
        "\n",
        "Naïve Bayes is a probabilistic classifier built on **Bayes’ Theorem:**\n",
        "\n",
        "\n",
        "$$\n",
        "P(A|B) = \\frac{P(B|A) \\cdot P(A)}{P(B)}\n",
        "$$\n",
        "\n",
        "It operates under the **assumption of feature independence**, meaning each feature (word) contributes independently to the classification. This makes the model computationally efficient and scalable.\n",
        "\n",
        "In the context of **spam detection**, the classifier estimates the probability \\( P(A|B) \\), where:\n",
        "- \\( A \\) represents the event that an email is **spam**.\n",
        "- \\( B \\) represents the observed features (i.e., words in the email).\n",
        "\n",
        "For example:\n",
        "\n",
        "P(Spam | **\"Congratulations! You have won a $1000 Walmart gift card. Click here to claim.\"**) --> Can we compute this probability?\n",
        "\n",
        "\n",
        "The model learns these probabilities from training data and applies them to new emails to classify them as **spam** or **not spam**.\n",
        "In other words, we just need to count how many the words included in the computation above, appears in spam/non-spam cases. Chances are that this count is higher for those cases belonging to spam than non-spam."
      ],
      "metadata": {
        "id": "bL48Kwb4sFyz"
      }
    },
    {
      "cell_type": "code",
      "source": [
        "import numpy as np\n",
        "import pandas as pd\n",
        "import matplotlib.pyplot as plt\n",
        "import seaborn as sns\n",
        "from sklearn.model_selection import train_test_split\n",
        "from sklearn.feature_extraction.text import TfidfVectorizer\n",
        "from sklearn.naive_bayes import MultinomialNB\n",
        "from sklearn.ensemble import RandomForestClassifier\n",
        "from sklearn.metrics import accuracy_score, classification_report, confusion_matrix"
      ],
      "metadata": {
        "id": "TiD_puixsDmA"
      },
      "execution_count": 67,
      "outputs": []
    },
    {
      "cell_type": "code",
      "source": [
        "# Step 1: Load Dataset\n",
        "dataset_path = \"/content/spam-classifier-dataset.csv\"\n",
        "\n",
        "data = pd.read_csv(dataset_path,encoding='latin-1')\n",
        "data.head()"
      ],
      "metadata": {
        "id": "4wy-_SVNvjps"
      },
      "execution_count": null,
      "outputs": []
    },
    {
      "cell_type": "code",
      "source": [
        "data['label'] = data['label'].map({'no-spam': 0, 'spam': 1})\n",
        "data.head()"
      ],
      "metadata": {
        "id": "0bL7AmXvlBgj"
      },
      "execution_count": null,
      "outputs": []
    },
    {
      "cell_type": "code",
      "source": [
        "# Visualize class distribution\n",
        "sns.countplot(x=data['label'])\n",
        "plt.title('Spam vs. NoSpam Distribution')\n",
        "plt.show()"
      ],
      "metadata": {
        "colab": {
          "base_uri": "https://localhost:8080/",
          "height": 472
        },
        "id": "YlxRjm2ZlLFg",
        "outputId": "2e047423-9bf5-457d-c345-d40af78f0699"
      },
      "execution_count": 76,
      "outputs": [
        {
          "output_type": "display_data",
          "data": {
            "text/plain": [
              "<Figure size 640x480 with 1 Axes>"
            ],
            "image/png": "[encoded data removed]"
          },
          "metadata": {}
        }
      ]
    },
    {
      "cell_type": "markdown",
      "source": [
        "##Dealing with un-even distributions: The class imbalance issue\n",
        "\n",
        "####When working with imbalanced datasets, that is one class (e.g., spam) is notably less represented than the other (e.g., non-spam), your model may become biased toward the majority class, resulting in poor generalization.\n",
        "\n",
        "#####How to address this issue?\n",
        "######1. **Oversampling the minority class with SMOTE or random oversampling**.\n",
        "\n",
        "- *SMOTE (Synthetic Minority Over-sampling Technique): Generates synthetic examples based on existing ones.*\n",
        "\n",
        "- *Random Oversampling: Duplicates samples from the minority class to balance the dataset.*\n",
        "\n",
        "```\n",
        "from imblearn.over_sampling import SMOTE\n",
        "smote = SMOTE(random_state=42)\n",
        "X_resampled, y_resampled = smote.fit_resample(X_train, y_train)\n",
        "```\n",
        "\n",
        "######2. **Undersampling the Majority Class**\n",
        "- *Random Undersampling: Removes random samples from the majority class*\n",
        "\n",
        "```\n",
        "from imblearn.under_sampling import RandomUnderSampler\n",
        "undersample = RandomUnderSampler(random_state=42)\n",
        "X_resampled, y_resampled = undersample.fit_resample(X_train, y_train)\n",
        "```\n",
        "\n",
        "\n"
      ],
      "metadata": {
        "id": "iCicWfvwqW9r"
      }
    },
    {
      "cell_type": "code",
      "source": [
        "# Step 2: Data Preprocessing\n",
        "X = data['message']\n",
        "y = data['label']\n",
        "X_train, X_test, y_train, y_test = train_test_split(X, y, test_size=0.2, random_state=42)\n",
        "\n"
      ],
      "metadata": {
        "id": "EC2Qb-lujxXn"
      },
      "execution_count": 77,
      "outputs": []
    },
    {
      "cell_type": "markdown",
      "source": [
        "##Feature Engineering - TF-IDF Vectorization\n",
        "Machine learning models cannot process raw text; we need to convert text into numerical representations.\n",
        "\n",
        "### **TF-IDF (Term Frequency - Inverse Document Frequency)**\n",
        "TF-IDF is a common technique used for transforming text into numerical values.\n",
        "\n",
        "- **Term Frequency (TF):** Measures how frequently a word appears in a document.\n",
        "- **Inverse Document Frequency (IDF):** Assigns higher importance to words that are unique in the dataset.\n",
        "\n",
        "The IDF formula is given by:\n",
        "\n",
        "$$\n",
        "IDF = \\log\\left( \\frac{\\text{Total Number of Documents}}{\\text{Number of Documents containing the word}} \\right)\n",
        "$$\n",
        "\n",
        "This transformation ensures that common words (e.g., \"the\", \"and\", \"is\") receive lower importance, while rare but meaningful words contribute more to the classification.\n"
      ],
      "metadata": {
        "id": "hNUBghgLxHM8"
      }
    },
    {
      "cell_type": "code",
      "source": [
        "#DOCUMENT A.K.A, EMAIL\n",
        "print(\"****************************************************************************\\n\")\n",
        "s1 = \"Congratulations! You have won a $1000 Walmart gift card. Click here to claim.\"\n",
        "print(s1)\n",
        "print(\"****************************************************************************\\n\")\n",
        "small_dataset = data.head(n=100)['message'].sample(n=100)\n",
        "print(small_dataset)"
      ],
      "metadata": {
        "colab": {
          "base_uri": "https://localhost:8080/"
        },
        "id": "OdtEOsXhxZxq",
        "outputId": "31ee8d25-7bde-4bec-a9af-318e3cd55e92"
      },
      "execution_count": 78,
      "outputs": [
        {
          "output_type": "stream",
          "name": "stdout",
          "text": [
            "****************************************************************************\n",
            "\n",
            "Congratulations! You have won a $1000 Walmart gift card. Click here to claim.\n",
            "****************************************************************************\n",
            "\n",
            "45                     No calls..messages..missed calls\n",
            "79    Its not the same here. Still looking for a job...\n",
            "42    07732584351 - Rodger Burns - MSG = We tried to...\n",
            "4     Nah I don't think he goes to usf, he lives aro...\n",
            "97    i see. When we finish we have loads of loans t...\n",
            "                            ...                        \n",
            "76    Thats cool. i am a gentleman and will treat yo...\n",
            "50    What you thinked about me. First time you saw ...\n",
            "57                   Sorry, I'll call later in meeting.\n",
            "25    Just forced myself to eat a slice. I'm really ...\n",
            "48    Yeah hopefully, if tyler can't do it I could m...\n",
            "Name: message, Length: 100, dtype: object\n"
          ]
        }
      ]
    },
    {
      "cell_type": "code",
      "source": [
        "# Initialize and apply TF-IDF Vectorizer\n",
        "vectorizer = TfidfVectorizer(stop_words='english') # If a word occurs everywhere all the time, is not relevant!\n",
        "X_train_tfidf = vectorizer.fit_transform(X_train)  # Learn vocabulary and transform training data\n",
        "\n",
        "# A vocabulary refers to the set of unique words, also known as tokens extracted from the training dataset. Each word in this vocabulary becomes a feature used to transform text into a numerical representation.\n",
        "print(vectorizer.vocabulary_)  # Dictionary of words and their assigned indices\n",
        "\n",
        "\"\"\"\n",
        "and 0\n",
        "aax 1\n",
        "...\n",
        "...\n",
        "...\n",
        "...\n",
        "zzz 40000\n",
        "\"\"\"\n",
        "\n",
        "#The larger the corpus i.e., the collection of documents you consider, the larger will be the memory needed to construct this matrix!\n",
        "X_test_tfidf = vectorizer.transform(X_test)  # Transform test data using the same vocabulary"
      ],
      "metadata": {
        "id": "yrJMyLYxwtvy"
      },
      "execution_count": null,
      "outputs": []
    },
    {
      "cell_type": "code",
      "source": [
        "# Step 3: Train Naïve Bayes Model\n",
        "# The Multinomial Naïve Bayes classifier is suitable for text classification problems.\n",
        "nb_classifier = MultinomialNB()\n",
        "nb_classifier.fit(X_train_tfidf, y_train)\n",
        "\n",
        "\n",
        "#The Naïve Bayes (NB) model identifies patterns in the data by counting occurrences of elements.\n",
        "#There are various other variations of ML models, such as Deep Learning models,  progressively more complex in their approach.\n",
        "\n",
        "# Step 4: Evaluate Model\n",
        "# Predictions and accuracy measurement\n",
        "y_pred = nb_classifier.predict(X_test_tfidf)\n",
        "accuracy = accuracy_score(y_test, y_pred)\n",
        "print(f'Accuracy: {accuracy:.2f}')\n",
        "print('Classification Report:')\n",
        "print(classification_report(y_test, y_pred))\n",
        "\n",
        "# Step 5: Confusion Matrix\n",
        "# The confusion matrix shows the number of correct and incorrect predictions.\n",
        "plt.figure(figsize=(5,5))\n",
        "sns.heatmap(confusion_matrix(y_test, y_pred), annot=True, fmt='d', cmap='Blues', xticklabels=['No-Spam', 'Spam'], yticklabels=['No-Spam', 'Spam'])\n",
        "plt.xlabel('Predicted')\n",
        "plt.ylabel('Actual')\n",
        "plt.title('Confusion Matrix')\n",
        "plt.show()\n",
        "\n",
        "\n",
        "# Step 6: Final evaluation\n",
        "example_email = \"Congratulations! You have won a $1000 Walmart gift card. Click here to claim.\"\n",
        "email_tfidf = vectorizer.transform([example_email])\n",
        "prediction = nb_classifier.predict(email_tfidf)[0]\n",
        "\n",
        "# Example Usage\n",
        "print(f'Example Email: {example_email}\\nClassification: {prediction}')"
      ],
      "metadata": {
        "id": "R3AcRL7rzJ_W"
      },
      "execution_count": null,
      "outputs": []
    },
    {
      "cell_type": "markdown",
      "source": [
        "# Decision Tree and Random Forest\n",
        "\n",
        "A Decision Tree is a **supervised machine learning** algorithm used for both classification and regression tasks. It works by splitting the dataset into subsets based on the value of input features. The goal is to create a model that predicts the correct label by learning simple decision rules inferred from the data.\n",
        "\n",
        "###Key Concepts:\n",
        "\n",
        " - Nodes: Represent decisions or tests on a feature.\n",
        " - Edges: Represent the outcome of a decision.\n",
        " - Leaf Nodes: Represent the final decision or prediction (e.g., spam or not spam).\n",
        " - Splitting: The process of dividing a node into sub-nodes based on a condition  (e.g., \"Is the word 'free' in the email?\").\n",
        " - Impurity Measures: Metrics like Gini impurity or entropy are used to decide  the best split.\n",
        "\n",
        "###Example:\n",
        "\n",
        "*Does the email contain the word \"free\"?*\n",
        "\n",
        "*Does the email contain the word \"money\"?*\n",
        "\n",
        "```\n",
        "Is \"free\" in the email?\n",
        "  ├── Yes: Is \"money\" in the email?\n",
        "  │      ├── Yes: Spam\n",
        "  │      └── No: Not Spam\n",
        "  └── No: Not Spam\n",
        "```\n",
        "\n",
        "We can potentially engineer an arbitrary number of features!\n",
        "Yes but.....chances are that we need to restart our laptop :-)\n",
        "\n",
        "##What is a Random Forest?\n",
        "Random Forest is an ensemble learning method that builds multiple decision trees.\n",
        "*Key advantages:*\n",
        "- Reduces Overfitting: By averaging multiple trees, it generalizes better.\n",
        "- Handles High Dimensionality: Effective for text classification tasks like spam detection.\n",
        "\n",
        "###High Dimensionality??\n",
        "\n",
        "1. **Each decision tree in the forest considers a random subset of features** to ensure diversity among trees and reduce reliance on any single feature.  \n",
        "\n",
        "2. **Prevents overfitting** by ensuring the model doesn’t depend too heavily on specific features, improving generalization to new data.  \n",
        "\n",
        "3. **Trees are trained independently**, allowing efficient parallel processing to handle large datasets and high-dimensional feature spaces.\n",
        "\n",
        "### **How a Random Forest is Trained (Simple Explanation)**\n",
        "\n",
        "1. **Gather Data**:  \n",
        "   Collect a dataset with features (e.g., #of_certain_words) and labels (e.g., \"yes\" or \"no\" for a decision).\n",
        "\n",
        "2. **Build Multiple Decision Trees**:  \n",
        "   Instead of creating just one decision tree, a random forest builds many trees. Each tree acts as an independent decision-maker.\n",
        "\n",
        "3. **Random Sampling (Bootstrapping)**:  \n",
        "   For each tree, randomly select a subset of the data. Some data points may be picked multiple times, while others may not be picked at all. This ensures each tree sees slightly different data.\n",
        "\n",
        "4. **Random Feature Selection**:  \n",
        "   At each step (node) in building a tree, only a random subset of features is considered for splitting the data. This adds diversity to the trees.\n",
        "\n",
        "5. **Grow the Trees**:  \n",
        "   Each tree is grown by asking yes/no questions about the features to split the data into smaller groups. This process continues until the tree reaches a stopping point (e.g., a maximum depth).\n",
        "\n",
        "6. **Combine Predictions**:  \n",
        "   Once all trees are built, they \"vote\" on the final prediction. For example, in classification, the majority vote determines the outcome. In regression, the average of all tree predictions is taken.\n",
        "\n",
        "7. **Final Model**:  \n",
        "   The random forest is the combination of all these trees. By leveraging many trees and introducing randomness, the model becomes more accurate and robust compared to a single decision tree.\n",
        "   "
      ],
      "metadata": {
        "id": "VGaG4pbr4Gp5"
      }
    },
    {
      "cell_type": "code",
      "source": [
        "  # Step 1 and Step 2 -- Nothing has changed [Re-execute for consistency]\n",
        "\n",
        "# Step 3: Random Classifier\n",
        "vectorizer = TfidfVectorizer(stop_words='english', max_features=10000)\n",
        "X_transformed = vectorizer.fit_transform(X)\n",
        "\n",
        "\n",
        "X_train, X_test, y_train, y_test = train_test_split(X_transformed, y, test_size=0.2, random_state=42)\n",
        "\n",
        "rf_classifier = RandomForestClassifier(n_estimators=100, random_state=42)\n",
        "rf_classifier.fit(X_train, y_train)\n"
      ],
      "metadata": {
        "id": "h3Peaa38jvfc"
      },
      "execution_count": null,
      "outputs": []
    },
    {
      "cell_type": "markdown",
      "source": [
        "###Hyperparameters selection.\n",
        "  \n",
        "  - **max_features**: Controls the number of features considered at each split in a tree, introducing randomness and reducing overfitting.\n",
        "\n",
        "  - **n_estimators**: Determines the total number of trees in the forest, with more trees, performance generally improves.\n",
        "\n",
        "Hyperparameters are adjustable settings that control how a model learns and performs, impacting accuracy, efficiency, and generalization. Selecting the right ones is crucial but time-consuming, especially for complex models like Large Language Models (LLMs), which require extensive tuning and large-scale computations. Methods like Grid Search, Random Search, or Bayesian Optimization help streamline this process, balancing performance and efficiency."
      ],
      "metadata": {
        "id": "gn_UMyZt_7-V"
      }
    },
    {
      "cell_type": "code",
      "source": [
        "# Step 4: Evaluate Model\n",
        "y_pred = rf_classifier.predict(X_test)\n",
        "accuracy = accuracy_score(y_test, y_pred)\n",
        "print(f'Accuracy: {accuracy:.2f}')\n",
        "print('Classification Report:')\n",
        "print(classification_report(y_test, y_pred))\n",
        "\n",
        "# Step 5: Confusion Matrix\n",
        "# The confusion matrix shows the number of correct and incorrect predictions.\n",
        "plt.figure(figsize=(5,5))\n",
        "sns.heatmap(confusion_matrix(y_test, y_pred), annot=True, fmt='d', cmap='Blues', xticklabels=['No-Spam', 'Spam'], yticklabels=['No-Spam', 'Spam'])\n",
        "plt.xlabel('Predicted')\n",
        "plt.ylabel('Actual')\n",
        "plt.title('Confusion Matrix')\n",
        "plt.show()\n",
        "\n",
        "\n",
        "# Step 6: Final evaluation\n",
        "example_email = \"Congratulations! You have won a $1000 Walmart gift card. Click here to claim.\"\n",
        "email_tfidf = vectorizer.transform([example_email])\n",
        "prediction = rf_classifier.predict(email_tfidf)[0]\n",
        "\n",
        "# Example Usage\n",
        "print(f'Example Email: {example_email}\\nClassification: {prediction}')\n"
      ],
      "metadata": {
        "colab": {
          "base_uri": "https://localhost:8080/",
          "height": 708
        },
        "id": "OBu6B-hJiUzE",
        "outputId": "9ad19b4a-bbd9-4bb9-e6b3-714fff29fe59"
      },
      "execution_count": 71,
      "outputs": [
        {
          "output_type": "stream",
          "name": "stdout",
          "text": [
            "Accuracy: 0.98\n",
            "Classification Report:\n",
            "              precision    recall  f1-score   support\n",
            "\n",
            "           0       0.97      1.00      0.99       965\n",
            "           1       1.00      0.83      0.91       150\n",
            "\n",
            "    accuracy                           0.98      1115\n",
            "   macro avg       0.99      0.91      0.95      1115\n",
            "weighted avg       0.98      0.98      0.98      1115\n",
            "\n"
          ]
        },
        {
          "output_type": "display_data",
          "data": {
            "text/plain": [
              "<Figure size 500x500 with 2 Axes>"
            ],
            "image/png": "[encoded data removed]"
          },
          "metadata": {}
        },
        {
          "output_type": "stream",
          "name": "stdout",
          "text": [
            "Example Email: Congratulations! You have won a $1000 Walmart gift card. Click here to claim.\n",
            "Classification: 1\n"
          ]
        }
      ]
    },
    {
      "cell_type": "code",
      "source": [],
      "metadata": {
        "id": "TSbJkEsV_6q4"
      },
      "execution_count": null,
      "outputs": []
    },
    {
      "cell_type": "code",
      "source": [],
      "metadata": {
        "id": "XRcVlb7v94nM"
      },
      "execution_count": null,
      "outputs": []
    }
  ]
}